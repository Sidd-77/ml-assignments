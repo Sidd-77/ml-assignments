{
 "cells": [
  {
   "cell_type": "code",
   "execution_count": 1,
   "id": "2b43633d",
   "metadata": {},
   "outputs": [
    {
     "name": "stdout",
     "output_type": "stream",
     "text": [
      "Collecting nose\n",
      "  Downloading nose-1.3.7-py3-none-any.whl (154 kB)\n",
      "\u001b[2K     \u001b[90m━━━━━━━━━━━━━━━━━━━━━━━━━━━━━━━━━━━━━━━\u001b[0m \u001b[32m154.7/154.7 kB\u001b[0m \u001b[31m1.1 MB/s\u001b[0m eta \u001b[36m0:00:00\u001b[0m00:01\u001b[0m00:01\u001b[0m\n",
      "\u001b[?25hInstalling collected packages: nose\n",
      "Successfully installed nose-1.3.7\n",
      "Note: you may need to restart the kernel to use updated packages.\n"
     ]
    }
   ],
   "source": [
    "pip install nose"
   ]
  },
  {
   "cell_type": "code",
   "execution_count": 2,
   "id": "c5f3f96d",
   "metadata": {
    "deletable": false,
    "editable": false,
    "nbgrader": {
     "cell_type": "code",
     "checksum": "a62d6604c181aa598c16f1dc4a0ef80f",
     "grade": false,
     "grade_id": "cell-1d1319dbdd2f95be",
     "locked": true,
     "schema_version": 3,
     "solution": false,
     "task": false
    }
   },
   "outputs": [],
   "source": [
    "#Perform logistic regression on diabetes dataset"
   ]
  },
  {
   "cell_type": "code",
   "execution_count": 3,
   "id": "250e1cd1",
   "metadata": {
    "deletable": false,
    "nbgrader": {
     "cell_type": "code",
     "checksum": "f5264282378aaac430ec943dc7100ccb",
     "grade": false,
     "grade_id": "cell-65901a02d7b3d454",
     "locked": false,
     "schema_version": 3,
     "solution": true,
     "task": false
    }
   },
   "outputs": [],
   "source": [
    "#Load diabetes dataset here and return shape of dataset\n",
    "from cz_utility import dataset\n",
    "# diabetes dataset\n",
    "df = dataset.load('63ea33b29ac5f900139b8d07')\n",
    "def returnShape(df):\n",
    "    # your code here\n",
    "    return df.shape\n",
    "    raise NotImplementedError"
   ]
  },
  {
   "cell_type": "code",
   "execution_count": 4,
   "id": "15628444",
   "metadata": {
    "deletable": false,
    "editable": false,
    "nbgrader": {
     "cell_type": "code",
     "checksum": "b3f09f2a823187359203f673d1b19162",
     "grade": true,
     "grade_id": "cell-9d4cd5b17d896c66",
     "locked": true,
     "points": 2,
     "schema_version": 3,
     "solution": false,
     "task": false
    }
   },
   "outputs": [],
   "source": [
    "from nose.tools import assert_equal\n",
    "assert_equal(returnShape(df), (768, 9))"
   ]
  },
  {
   "cell_type": "code",
   "execution_count": 11,
   "id": "d33336b2",
   "metadata": {},
   "outputs": [
    {
     "name": "stdout",
     "output_type": "stream",
     "text": [
      "<class 'pandas.core.frame.DataFrame'>\n",
      "RangeIndex: 768 entries, 0 to 767\n",
      "Data columns (total 9 columns):\n",
      " #   Column                    Non-Null Count  Dtype  \n",
      "---  ------                    --------------  -----  \n",
      " 0   Pregnancies               768 non-null    int64  \n",
      " 1   Glucose                   768 non-null    int64  \n",
      " 2   BloodPressure             768 non-null    int64  \n",
      " 3   SkinThickness             768 non-null    int64  \n",
      " 4   Insulin                   768 non-null    int64  \n",
      " 5   BMI                       768 non-null    float64\n",
      " 6   DiabetesPedigreeFunction  768 non-null    float64\n",
      " 7   Age                       768 non-null    int64  \n",
      " 8   Outcome                   768 non-null    int64  \n",
      "dtypes: float64(2), int64(7)\n",
      "memory usage: 54.1 KB\n"
     ]
    }
   ],
   "source": [
    "df.info()"
   ]
  },
  {
   "cell_type": "code",
   "execution_count": 15,
   "id": "91ea7fd3",
   "metadata": {
    "deletable": false,
    "nbgrader": {
     "cell_type": "code",
     "checksum": "569a0196f50fd0d4b33bcee7e91c5140",
     "grade": false,
     "grade_id": "cell-97b7b8d9c24aa579",
     "locked": false,
     "schema_version": 3,
     "solution": true,
     "task": false
    }
   },
   "outputs": [],
   "source": [
    "#separate input and output from dataset and remove unwanted data columns\n",
    "#take x for input and y for output\n",
    "def sepAndRemove(df):\n",
    "    # your code here\n",
    "    y = df['Outcome'].copy()\n",
    "    x = df.drop(['Outcome','SkinThickness'], axis=1).copy()\n",
    "    return [x, y]\n",
    "    raise NotImplementedError"
   ]
  },
  {
   "cell_type": "code",
   "execution_count": 16,
   "id": "15efccc9",
   "metadata": {
    "deletable": false,
    "editable": false,
    "nbgrader": {
     "cell_type": "code",
     "checksum": "492e3df2e6c0c63b64800df4d7abbb79",
     "grade": true,
     "grade_id": "cell-f7e39f11fcd55f39",
     "locked": true,
     "points": 2,
     "schema_version": 3,
     "solution": false,
     "task": false
    }
   },
   "outputs": [],
   "source": [
    "trainAndTestData = sepAndRemove(df)\n",
    "assert_equal(trainAndTestData[0].shape, (768, 7))\n",
    "assert_equal(trainAndTestData[1].shape, (768,))"
   ]
  },
  {
   "cell_type": "code",
   "execution_count": 17,
   "id": "3467daff",
   "metadata": {
    "deletable": false,
    "nbgrader": {
     "cell_type": "code",
     "checksum": "252a797e9b54c6e5c0aaed313c649f16",
     "grade": false,
     "grade_id": "cell-05c4eb3e485c557a",
     "locked": false,
     "schema_version": 3,
     "solution": true,
     "task": false
    }
   },
   "outputs": [],
   "source": [
    "#separate training and testing dataset with test_size = 0.3\n",
    "from sklearn.model_selection import train_test_split\n",
    "def trainTestSplit(trainAndTestData):\n",
    "    # your code here\n",
    "    X_train, X_test, Y_train, Y_test = train_test_split(trainAndTestData[0], trainAndTestData[1], test_size=0.30, random_state=0)\n",
    "    return [X_train, X_test, Y_train, Y_test]\n",
    "    raise NotImplementedError"
   ]
  },
  {
   "cell_type": "code",
   "execution_count": 18,
   "id": "18871bfa",
   "metadata": {
    "deletable": false,
    "editable": false,
    "nbgrader": {
     "cell_type": "code",
     "checksum": "a561c858e31196cdedf5317084b50ecf",
     "grade": true,
     "grade_id": "cell-a7a6e742dbef0d20",
     "locked": true,
     "points": 2,
     "schema_version": 3,
     "solution": false,
     "task": false
    }
   },
   "outputs": [],
   "source": [
    "trainAndTestData=trainTestSplit(sepAndRemove(df))\n",
    "assert_equal(trainAndTestData[0].shape,(537, 7))\n",
    "assert_equal(trainAndTestData[1].shape,(231, 7))\n",
    "assert_equal(trainAndTestData[2].shape,(537,))\n",
    "assert_equal(trainAndTestData[3].shape,(231,))"
   ]
  },
  {
   "cell_type": "code",
   "execution_count": 24,
   "id": "319f4f4b",
   "metadata": {
    "deletable": false,
    "nbgrader": {
     "cell_type": "code",
     "checksum": "fd082ff6def2bc0db36d47997123ab1f",
     "grade": false,
     "grade_id": "cell-6e973aeb54f8a469",
     "locked": false,
     "schema_version": 3,
     "solution": true,
     "task": false
    }
   },
   "outputs": [],
   "source": [
    "#use MinMaxScaler to scale the data to a fixed range\n",
    "from sklearn.preprocessing import MinMaxScaler\n",
    "def scalar(trainAndTestData):\n",
    "    # your code here\n",
    "    scaler = MinMaxScaler()\n",
    "    trainAndTestData[0] = scaler.fit_transform(trainAndTestData[0])\n",
    "    trainAndTestData[1] = scaler.fit_transform(trainAndTestData[1])\n",
    "    return trainAndTestData\n",
    "    raise NotImplementedError"
   ]
  },
  {
   "cell_type": "code",
   "execution_count": 25,
   "id": "333e31a4",
   "metadata": {
    "deletable": false,
    "editable": false,
    "nbgrader": {
     "cell_type": "code",
     "checksum": "f8211d2c061947d69ad2722e042c9ae4",
     "grade": true,
     "grade_id": "cell-0bb62bf101293688",
     "locked": true,
     "points": 2,
     "schema_version": 3,
     "solution": false,
     "task": false
    }
   },
   "outputs": [],
   "source": [
    "trainAndTestData=scalar(trainTestSplit(sepAndRemove(df)))\n",
    "assert_equal(trainAndTestData[0].shape, (537, 7))\n",
    "assert_equal(trainAndTestData[1].shape, (231, 7))\n"
   ]
  },
  {
   "cell_type": "code",
   "execution_count": 26,
   "id": "84cfa19f",
   "metadata": {
    "deletable": false,
    "nbgrader": {
     "cell_type": "code",
     "checksum": "a2e39a60c929249f50876230089f3fb1",
     "grade": false,
     "grade_id": "cell-a9178e0adf01003e",
     "locked": false,
     "schema_version": 3,
     "solution": true,
     "task": false
    }
   },
   "outputs": [],
   "source": [
    "#perform logistic regression here and return accuracy between predected output for testx and testy\n",
    "from sklearn.linear_model import LogisticRegression\n",
    "from sklearn.metrics import accuracy_score\n",
    "def logisticReg(trainAndTestData, trainy, testy):\n",
    "    # your code here\n",
    "    model = LogisticRegression()\n",
    "    model.fit(trainAndTestData[0], trainy)\n",
    "    predictions = model.predict(trainAndTestData[1])\n",
    "    score = accuracy_score(testy, predictions)\n",
    "    return score\n",
    "    raise NotImplementedError"
   ]
  },
  {
   "cell_type": "code",
   "execution_count": 27,
   "id": "619604ef",
   "metadata": {
    "deletable": false,
    "editable": false,
    "nbgrader": {
     "cell_type": "code",
     "checksum": "2573517c941b653e38b6b9d40b43679a",
     "grade": true,
     "grade_id": "cell-b26830e8ae1d3a06",
     "locked": true,
     "points": 2,
     "schema_version": 3,
     "solution": false,
     "task": false
    }
   },
   "outputs": [],
   "source": [
    "#there might be difference between student answer and faculty answer\n",
    "trainAndTestData1 = trainTestSplit(sepAndRemove(df))\n",
    "accuracyScore = logisticReg(scalar(trainTestSplit(sepAndRemove(df))), trainAndTestData1[2], trainAndTestData1[3])\n",
    "assert_equal(accuracyScore>0.60, True)"
   ]
  },
  {
   "cell_type": "code",
   "execution_count": null,
   "id": "28716e34",
   "metadata": {},
   "outputs": [],
   "source": []
  }
 ],
 "metadata": {
  "kernelspec": {
   "display_name": "Python 3 (ipykernel)",
   "language": "python",
   "name": "python3"
  },
  "language_info": {
   "codemirror_mode": {
    "name": "ipython",
    "version": 3
   },
   "file_extension": ".py",
   "mimetype": "text/x-python",
   "name": "python",
   "nbconvert_exporter": "python",
   "pygments_lexer": "ipython3",
   "version": "3.10.11"
  }
 },
 "nbformat": 4,
 "nbformat_minor": 5
}
