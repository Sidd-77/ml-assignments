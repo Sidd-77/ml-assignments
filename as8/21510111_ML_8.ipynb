{
 "cells": [
  {
   "cell_type": "code",
   "execution_count": 147,
   "metadata": {},
   "outputs": [],
   "source": [
    "import pandas as pd\n",
    "import matplotlib.pylab as plt\n",
    "import numpy as np\n",
    "from scipy import stats\n",
    "from sklearn.metrics import classification_report, accuracy_score"
   ]
  },
  {
   "cell_type": "code",
   "execution_count": 148,
   "metadata": {},
   "outputs": [],
   "source": [
    "df = pd.read_csv('creditcardfraud_normalised.csv',nrows=10000)"
   ]
  },
  {
   "cell_type": "code",
   "execution_count": 149,
   "metadata": {},
   "outputs": [],
   "source": [
    "# profile = ProfileReport(df, title=\"Credit Card Fraud\")"
   ]
  },
  {
   "cell_type": "code",
   "execution_count": 150,
   "metadata": {},
   "outputs": [],
   "source": [
    "# profile.to_file(\"CreditCardFraudEDA.html\")"
   ]
  },
  {
   "cell_type": "code",
   "execution_count": 151,
   "metadata": {},
   "outputs": [
    {
     "data": {
      "text/html": [
       "<div>\n",
       "<style scoped>\n",
       "    .dataframe tbody tr th:only-of-type {\n",
       "        vertical-align: middle;\n",
       "    }\n",
       "\n",
       "    .dataframe tbody tr th {\n",
       "        vertical-align: top;\n",
       "    }\n",
       "\n",
       "    .dataframe thead th {\n",
       "        text-align: right;\n",
       "    }\n",
       "</style>\n",
       "<table border=\"1\" class=\"dataframe\">\n",
       "  <thead>\n",
       "    <tr style=\"text-align: right;\">\n",
       "      <th></th>\n",
       "      <th>V1</th>\n",
       "      <th>V2</th>\n",
       "      <th>V3</th>\n",
       "      <th>V4</th>\n",
       "      <th>V5</th>\n",
       "      <th>V6</th>\n",
       "      <th>V7</th>\n",
       "      <th>V8</th>\n",
       "      <th>V9</th>\n",
       "      <th>V10</th>\n",
       "      <th>...</th>\n",
       "      <th>V21</th>\n",
       "      <th>V22</th>\n",
       "      <th>V23</th>\n",
       "      <th>V24</th>\n",
       "      <th>V25</th>\n",
       "      <th>V26</th>\n",
       "      <th>V27</th>\n",
       "      <th>V28</th>\n",
       "      <th>Amount</th>\n",
       "      <th>class</th>\n",
       "    </tr>\n",
       "  </thead>\n",
       "  <tbody>\n",
       "    <tr>\n",
       "      <th>0</th>\n",
       "      <td>0.935192</td>\n",
       "      <td>0.766490</td>\n",
       "      <td>0.881365</td>\n",
       "      <td>0.313023</td>\n",
       "      <td>0.763439</td>\n",
       "      <td>0.267669</td>\n",
       "      <td>0.266815</td>\n",
       "      <td>0.786444</td>\n",
       "      <td>0.475312</td>\n",
       "      <td>0.510600</td>\n",
       "      <td>...</td>\n",
       "      <td>0.561184</td>\n",
       "      <td>0.522992</td>\n",
       "      <td>0.663793</td>\n",
       "      <td>0.391253</td>\n",
       "      <td>0.585122</td>\n",
       "      <td>0.394557</td>\n",
       "      <td>0.418976</td>\n",
       "      <td>0.312697</td>\n",
       "      <td>0.005824</td>\n",
       "      <td>0</td>\n",
       "    </tr>\n",
       "    <tr>\n",
       "      <th>1</th>\n",
       "      <td>0.978542</td>\n",
       "      <td>0.770067</td>\n",
       "      <td>0.840298</td>\n",
       "      <td>0.271796</td>\n",
       "      <td>0.766120</td>\n",
       "      <td>0.262192</td>\n",
       "      <td>0.264875</td>\n",
       "      <td>0.786298</td>\n",
       "      <td>0.453981</td>\n",
       "      <td>0.505267</td>\n",
       "      <td>...</td>\n",
       "      <td>0.557840</td>\n",
       "      <td>0.480237</td>\n",
       "      <td>0.666938</td>\n",
       "      <td>0.336440</td>\n",
       "      <td>0.587290</td>\n",
       "      <td>0.446013</td>\n",
       "      <td>0.416345</td>\n",
       "      <td>0.313423</td>\n",
       "      <td>0.000105</td>\n",
       "      <td>0</td>\n",
       "    </tr>\n",
       "    <tr>\n",
       "      <th>2</th>\n",
       "      <td>0.935217</td>\n",
       "      <td>0.753118</td>\n",
       "      <td>0.868141</td>\n",
       "      <td>0.268766</td>\n",
       "      <td>0.762329</td>\n",
       "      <td>0.281122</td>\n",
       "      <td>0.270177</td>\n",
       "      <td>0.788042</td>\n",
       "      <td>0.410603</td>\n",
       "      <td>0.513018</td>\n",
       "      <td>...</td>\n",
       "      <td>0.565477</td>\n",
       "      <td>0.546030</td>\n",
       "      <td>0.678939</td>\n",
       "      <td>0.289354</td>\n",
       "      <td>0.559515</td>\n",
       "      <td>0.402727</td>\n",
       "      <td>0.415489</td>\n",
       "      <td>0.311911</td>\n",
       "      <td>0.014739</td>\n",
       "      <td>0</td>\n",
       "    </tr>\n",
       "    <tr>\n",
       "      <th>3</th>\n",
       "      <td>0.941878</td>\n",
       "      <td>0.765304</td>\n",
       "      <td>0.868484</td>\n",
       "      <td>0.213661</td>\n",
       "      <td>0.765647</td>\n",
       "      <td>0.275559</td>\n",
       "      <td>0.266803</td>\n",
       "      <td>0.789434</td>\n",
       "      <td>0.414999</td>\n",
       "      <td>0.507585</td>\n",
       "      <td>...</td>\n",
       "      <td>0.559734</td>\n",
       "      <td>0.510277</td>\n",
       "      <td>0.662607</td>\n",
       "      <td>0.223826</td>\n",
       "      <td>0.614245</td>\n",
       "      <td>0.389197</td>\n",
       "      <td>0.417669</td>\n",
       "      <td>0.314371</td>\n",
       "      <td>0.004807</td>\n",
       "      <td>0</td>\n",
       "    </tr>\n",
       "    <tr>\n",
       "      <th>4</th>\n",
       "      <td>0.938617</td>\n",
       "      <td>0.776520</td>\n",
       "      <td>0.864251</td>\n",
       "      <td>0.269796</td>\n",
       "      <td>0.762975</td>\n",
       "      <td>0.263984</td>\n",
       "      <td>0.268968</td>\n",
       "      <td>0.782484</td>\n",
       "      <td>0.490950</td>\n",
       "      <td>0.524303</td>\n",
       "      <td>...</td>\n",
       "      <td>0.561327</td>\n",
       "      <td>0.547271</td>\n",
       "      <td>0.663392</td>\n",
       "      <td>0.401270</td>\n",
       "      <td>0.566343</td>\n",
       "      <td>0.507497</td>\n",
       "      <td>0.420561</td>\n",
       "      <td>0.317490</td>\n",
       "      <td>0.002724</td>\n",
       "      <td>0</td>\n",
       "    </tr>\n",
       "  </tbody>\n",
       "</table>\n",
       "<p>5 rows × 30 columns</p>\n",
       "</div>"
      ],
      "text/plain": [
       "         V1        V2        V3        V4        V5        V6        V7  \\\n",
       "0  0.935192  0.766490  0.881365  0.313023  0.763439  0.267669  0.266815   \n",
       "1  0.978542  0.770067  0.840298  0.271796  0.766120  0.262192  0.264875   \n",
       "2  0.935217  0.753118  0.868141  0.268766  0.762329  0.281122  0.270177   \n",
       "3  0.941878  0.765304  0.868484  0.213661  0.765647  0.275559  0.266803   \n",
       "4  0.938617  0.776520  0.864251  0.269796  0.762975  0.263984  0.268968   \n",
       "\n",
       "         V8        V9       V10  ...       V21       V22       V23       V24  \\\n",
       "0  0.786444  0.475312  0.510600  ...  0.561184  0.522992  0.663793  0.391253   \n",
       "1  0.786298  0.453981  0.505267  ...  0.557840  0.480237  0.666938  0.336440   \n",
       "2  0.788042  0.410603  0.513018  ...  0.565477  0.546030  0.678939  0.289354   \n",
       "3  0.789434  0.414999  0.507585  ...  0.559734  0.510277  0.662607  0.223826   \n",
       "4  0.782484  0.490950  0.524303  ...  0.561327  0.547271  0.663392  0.401270   \n",
       "\n",
       "        V25       V26       V27       V28    Amount  class  \n",
       "0  0.585122  0.394557  0.418976  0.312697  0.005824      0  \n",
       "1  0.587290  0.446013  0.416345  0.313423  0.000105      0  \n",
       "2  0.559515  0.402727  0.415489  0.311911  0.014739      0  \n",
       "3  0.614245  0.389197  0.417669  0.314371  0.004807      0  \n",
       "4  0.566343  0.507497  0.420561  0.317490  0.002724      0  \n",
       "\n",
       "[5 rows x 30 columns]"
      ]
     },
     "execution_count": 151,
     "metadata": {},
     "output_type": "execute_result"
    }
   ],
   "source": [
    "df.head()"
   ]
  },
  {
   "cell_type": "code",
   "execution_count": 152,
   "metadata": {},
   "outputs": [
    {
     "name": "stdout",
     "output_type": "stream",
     "text": [
      "<class 'pandas.core.frame.DataFrame'>\n",
      "RangeIndex: 10000 entries, 0 to 9999\n",
      "Data columns (total 30 columns):\n",
      " #   Column  Non-Null Count  Dtype  \n",
      "---  ------  --------------  -----  \n",
      " 0   V1      10000 non-null  float64\n",
      " 1   V2      10000 non-null  float64\n",
      " 2   V3      10000 non-null  float64\n",
      " 3   V4      10000 non-null  float64\n",
      " 4   V5      10000 non-null  float64\n",
      " 5   V6      10000 non-null  float64\n",
      " 6   V7      10000 non-null  float64\n",
      " 7   V8      10000 non-null  float64\n",
      " 8   V9      10000 non-null  float64\n",
      " 9   V10     10000 non-null  float64\n",
      " 10  V11     10000 non-null  float64\n",
      " 11  V12     10000 non-null  float64\n",
      " 12  V13     10000 non-null  float64\n",
      " 13  V14     10000 non-null  float64\n",
      " 14  V15     10000 non-null  float64\n",
      " 15  V16     10000 non-null  float64\n",
      " 16  V17     10000 non-null  float64\n",
      " 17  V18     10000 non-null  float64\n",
      " 18  V19     10000 non-null  float64\n",
      " 19  V20     10000 non-null  float64\n",
      " 20  V21     10000 non-null  float64\n",
      " 21  V22     10000 non-null  float64\n",
      " 22  V23     10000 non-null  float64\n",
      " 23  V24     10000 non-null  float64\n",
      " 24  V25     10000 non-null  float64\n",
      " 25  V26     10000 non-null  float64\n",
      " 26  V27     10000 non-null  float64\n",
      " 27  V28     10000 non-null  float64\n",
      " 28  Amount  10000 non-null  float64\n",
      " 29  class   10000 non-null  int64  \n",
      "dtypes: float64(29), int64(1)\n",
      "memory usage: 2.3 MB\n"
     ]
    }
   ],
   "source": [
    "df.info()"
   ]
  },
  {
   "cell_type": "code",
   "execution_count": 153,
   "metadata": {},
   "outputs": [
    {
     "data": {
      "text/plain": [
       "38"
      ]
     },
     "execution_count": 153,
     "metadata": {},
     "output_type": "execute_result"
    }
   ],
   "source": [
    "df['class'].sum()"
   ]
  },
  {
   "cell_type": "code",
   "execution_count": 154,
   "metadata": {},
   "outputs": [
    {
     "name": "stdout",
     "output_type": "stream",
     "text": [
      "Requirement already satisfied: combo in d:\\ml-assignments\\.venv\\lib\\site-packages (0.1.3)Note: you may need to restart the kernel to use updated packages.\n",
      "\n",
      "Requirement already satisfied: joblib in d:\\ml-assignments\\.venv\\lib\\site-packages (from combo) (1.3.2)\n",
      "Requirement already satisfied: matplotlib in d:\\ml-assignments\\.venv\\lib\\site-packages (from combo) (3.8.3)\n",
      "Requirement already satisfied: numpy>=1.13 in d:\\ml-assignments\\.venv\\lib\\site-packages (from combo) (1.26.4)\n",
      "Requirement already satisfied: numba>=0.35 in d:\\ml-assignments\\.venv\\lib\\site-packages (from combo) (0.59.1)\n",
      "Requirement already satisfied: pyod in d:\\ml-assignments\\.venv\\lib\\site-packages (from combo) (1.1.3)\n",
      "Requirement already satisfied: scipy in d:\\ml-assignments\\.venv\\lib\\site-packages (from combo) (1.11.4)\n",
      "Requirement already satisfied: scikit-learn>=0.20 in d:\\ml-assignments\\.venv\\lib\\site-packages (from combo) (1.4.1.post1)\n",
      "Requirement already satisfied: llvmlite<0.43,>=0.42.0dev0 in d:\\ml-assignments\\.venv\\lib\\site-packages (from numba>=0.35->combo) (0.42.0)\n",
      "Requirement already satisfied: threadpoolctl>=2.0.0 in d:\\ml-assignments\\.venv\\lib\\site-packages (from scikit-learn>=0.20->combo) (3.3.0)\n",
      "Requirement already satisfied: contourpy>=1.0.1 in d:\\ml-assignments\\.venv\\lib\\site-packages (from matplotlib->combo) (1.2.0)\n",
      "Requirement already satisfied: cycler>=0.10 in d:\\ml-assignments\\.venv\\lib\\site-packages (from matplotlib->combo) (0.12.1)\n",
      "Requirement already satisfied: fonttools>=4.22.0 in d:\\ml-assignments\\.venv\\lib\\site-packages (from matplotlib->combo) (4.49.0)\n",
      "Requirement already satisfied: kiwisolver>=1.3.1 in d:\\ml-assignments\\.venv\\lib\\site-packages (from matplotlib->combo) (1.4.5)\n",
      "Requirement already satisfied: packaging>=20.0 in d:\\ml-assignments\\.venv\\lib\\site-packages (from matplotlib->combo) (24.0)\n",
      "Requirement already satisfied: pillow>=8 in d:\\ml-assignments\\.venv\\lib\\site-packages (from matplotlib->combo) (10.2.0)\n",
      "Requirement already satisfied: pyparsing>=2.3.1 in d:\\ml-assignments\\.venv\\lib\\site-packages (from matplotlib->combo) (3.1.2)\n",
      "Requirement already satisfied: python-dateutil>=2.7 in d:\\ml-assignments\\.venv\\lib\\site-packages (from matplotlib->combo) (2.9.0.post0)\n",
      "Requirement already satisfied: six in d:\\ml-assignments\\.venv\\lib\\site-packages (from pyod->combo) (1.16.0)\n"
     ]
    }
   ],
   "source": [
    "%pip install combo"
   ]
  },
  {
   "cell_type": "code",
   "execution_count": 155,
   "metadata": {},
   "outputs": [],
   "source": [
    "y = df['class'].copy()\n",
    "X = df.drop(['class'], axis=1).copy()"
   ]
  },
  {
   "cell_type": "code",
   "execution_count": 156,
   "metadata": {},
   "outputs": [],
   "source": [
    "from sklearn.model_selection import train_test_split\n",
    "\n",
    "X_train, X_test, y_train, y_test = train_test_split(X, y, test_size=0.2, random_state=69)\n",
    "xx , yy = np.meshgrid(np.linspace(0,1 , 200), np.linspace(0, 1, 200))\n"
   ]
  },
  {
   "cell_type": "code",
   "execution_count": 157,
   "metadata": {},
   "outputs": [
    {
     "data": {
      "text/plain": [
       "((8000, 29), (2000, 29), (8000,), (2000,))"
      ]
     },
     "execution_count": 157,
     "metadata": {},
     "output_type": "execute_result"
    }
   ],
   "source": [
    "X_train.shape, X_test.shape, y_train.shape, y_test.shape\n"
   ]
  },
  {
   "cell_type": "code",
   "execution_count": 158,
   "metadata": {},
   "outputs": [],
   "source": [
    "from pyod.models.abod import ABOD\n",
    "from pyod.models.knn import KNN\n",
    "from pyod.models.iforest import IForest\n",
    "from pyod.models.feature_bagging import FeatureBagging\n",
    "\n",
    "\n",
    "outlier_fraction = 0.0038\n",
    "\n",
    "classifiers = {\n",
    "     'Angle-based Outlier Detector (ABOD)'   : ABOD(contamination=outlier_fraction),\n",
    "     'K Nearest Neighbors (KNN)' :  KNN(contamination=outlier_fraction),\n",
    "     'Isolation Forest': IForest(contamination=outlier_fraction,random_state=69),\n",
    "     'Ensembling ': FeatureBagging(base_estimator=KNN(), contamination=outlier_fraction)\n",
    "}\n"
   ]
  },
  {
   "cell_type": "code",
   "execution_count": 159,
   "metadata": {},
   "outputs": [],
   "source": [
    "outlier_preds = {}"
   ]
  },
  {
   "cell_type": "code",
   "execution_count": 160,
   "metadata": {},
   "outputs": [
    {
     "name": "stderr",
     "output_type": "stream",
     "text": [
      "d:\\ml-assignments\\.venv\\Lib\\site-packages\\numpy\\core\\fromnumeric.py:3787: RuntimeWarning: Degrees of freedom <= 0 for slice\n",
      "  return _methods._var(a, axis=axis, dtype=dtype, out=out, ddof=ddof,\n",
      "d:\\ml-assignments\\.venv\\Lib\\site-packages\\numpy\\core\\_methods.py:163: RuntimeWarning: invalid value encountered in divide\n",
      "  arrmean = um.true_divide(arrmean, div, out=arrmean,\n",
      "d:\\ml-assignments\\.venv\\Lib\\site-packages\\numpy\\core\\_methods.py:198: RuntimeWarning: invalid value encountered in scalar divide\n",
      "  ret = ret.dtype.type(ret / rcount)\n",
      "d:\\ml-assignments\\.venv\\Lib\\site-packages\\numpy\\core\\fromnumeric.py:3787: RuntimeWarning: Degrees of freedom <= 0 for slice\n",
      "  return _methods._var(a, axis=axis, dtype=dtype, out=out, ddof=ddof,\n",
      "d:\\ml-assignments\\.venv\\Lib\\site-packages\\numpy\\core\\_methods.py:163: RuntimeWarning: invalid value encountered in divide\n",
      "  arrmean = um.true_divide(arrmean, div, out=arrmean,\n",
      "d:\\ml-assignments\\.venv\\Lib\\site-packages\\numpy\\core\\_methods.py:198: RuntimeWarning: invalid value encountered in scalar divide\n",
      "  ret = ret.dtype.type(ret / rcount)\n",
      "d:\\ml-assignments\\.venv\\Lib\\site-packages\\numpy\\core\\fromnumeric.py:3787: RuntimeWarning: Degrees of freedom <= 0 for slice\n",
      "  return _methods._var(a, axis=axis, dtype=dtype, out=out, ddof=ddof,\n",
      "d:\\ml-assignments\\.venv\\Lib\\site-packages\\numpy\\core\\_methods.py:163: RuntimeWarning: invalid value encountered in divide\n",
      "  arrmean = um.true_divide(arrmean, div, out=arrmean,\n",
      "d:\\ml-assignments\\.venv\\Lib\\site-packages\\numpy\\core\\_methods.py:198: RuntimeWarning: invalid value encountered in scalar divide\n",
      "  ret = ret.dtype.type(ret / rcount)\n"
     ]
    },
    {
     "name": "stdout",
     "output_type": "stream",
     "text": [
      "Angle-based Outlier Detector (ABOD)  : \n",
      "\n",
      "Predicted inliers:  2000\n",
      "Predicted outliers:  0\n",
      "Actual inliers:  1989\n",
      "Actual Outliers:  11\n",
      "Accuracy score on test data:  0.9945\n",
      "===========================================================================\n",
      "\n",
      "\n",
      "K Nearest Neighbors (KNN)  : \n",
      "\n",
      "Predicted inliers:  1986\n",
      "Predicted outliers:  14\n",
      "Actual inliers:  1989\n",
      "Actual Outliers:  11\n",
      "Accuracy score on test data:  0.9925\n",
      "===========================================================================\n",
      "\n",
      "\n"
     ]
    },
    {
     "name": "stderr",
     "output_type": "stream",
     "text": [
      "d:\\ml-assignments\\.venv\\Lib\\site-packages\\sklearn\\base.py:486: UserWarning: X has feature names, but IsolationForest was fitted without feature names\n",
      "  warnings.warn(\n",
      "d:\\ml-assignments\\.venv\\Lib\\site-packages\\sklearn\\base.py:486: UserWarning: X has feature names, but IsolationForest was fitted without feature names\n",
      "  warnings.warn(\n"
     ]
    },
    {
     "name": "stdout",
     "output_type": "stream",
     "text": [
      "Isolation Forest  : \n",
      "\n",
      "Predicted inliers:  1993\n",
      "Predicted outliers:  7\n",
      "Actual inliers:  1989\n",
      "Actual Outliers:  11\n",
      "Accuracy score on test data:  0.995\n",
      "===========================================================================\n",
      "\n",
      "\n",
      "Ensembling   : \n",
      "\n",
      "Predicted inliers:  1988\n",
      "Predicted outliers:  12\n",
      "Actual inliers:  1989\n",
      "Actual Outliers:  11\n",
      "Accuracy score on test data:  0.9925\n",
      "===========================================================================\n",
      "\n",
      "\n"
     ]
    }
   ],
   "source": [
    "for name, clf in classifiers.items():\n",
    "    clf.fit(X_train)\n",
    "    y_test_pred = clf.predict(X_test)\n",
    "    y_test_score = clf.decision_function(X_test)\n",
    "    n_inliers = len(y_test_pred)-y_test_pred.sum()\n",
    "    n_outliers = y_test_pred.sum()\n",
    "    outlier_preds[name] = y_test_pred\n",
    "    print(name, \" : \\n\")\n",
    "    print(\"Predicted inliers: \", n_inliers)\n",
    "    print(\"Predicted outliers: \", n_outliers)\n",
    "    print(\"Actual inliers: \", len(y_test)-y_test.sum())\n",
    "    print(\"Actual Outliers: \", y_test.sum())\n",
    "    print(\"Accuracy score on test data: \", accuracy_score(y_test, y_test_pred))\n",
    "    print(\"===========================================================================\")\n",
    "    print(\"\\n\")"
   ]
  },
  {
   "cell_type": "code",
   "execution_count": null,
   "metadata": {},
   "outputs": [],
   "source": []
  }
 ],
 "metadata": {
  "kernelspec": {
   "display_name": ".venv",
   "language": "python",
   "name": "python3"
  },
  "language_info": {
   "codemirror_mode": {
    "name": "ipython",
    "version": 3
   },
   "file_extension": ".py",
   "mimetype": "text/x-python",
   "name": "python",
   "nbconvert_exporter": "python",
   "pygments_lexer": "ipython3",
   "version": "3.12.2"
  }
 },
 "nbformat": 4,
 "nbformat_minor": 2
}
